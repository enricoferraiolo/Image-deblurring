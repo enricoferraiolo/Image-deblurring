{
  "cells": [
    {
      "cell_type": "markdown",
      "metadata": {
        "id": "wOqxKoCZ0Lyf"
      },
      "source": [
        "# **Progetto di Introduzione All'Apprendimento Automatico**\n",
        "### *a.a. 2023/2024*\n"
      ]
    },
    {
      "cell_type": "markdown",
      "metadata": {
        "id": "bacEDFoO3XOz"
      },
      "source": [
        "# Deblurring di immagini mosse\n",
        "\n",
        "Il progetto riguarda il deblurirng di immagini. Il tipo di \"blur\" in questione è ottenuto mediante sovrapposizione di immagini leggermente traslate a partire dall'originale, lungo un tragitto randomico.\n",
        "\n",
        "Questo tipo di blur intende simulare il risultato del tremolio della mano per riprese con tempo di esposizione prolungato.\n"
      ]
    },
    {
      "cell_type": "code",
      "execution_count": null,
      "metadata": {
        "id": "tXq5YKgoyJdX"
      },
      "outputs": [],
      "source": [
        "from tensorflow.keras import layers\n",
        "from tensorflow.keras.models import Model\n",
        "from tensorflow.keras.datasets import mnist\n",
        "import tensorflow as tf\n",
        "import keras\n",
        "import numpy as np\n",
        "import matplotlib.pyplot as plt"
      ]
    },
    {
      "cell_type": "code",
      "execution_count": null,
      "metadata": {
        "id": "Sb-6a1ZsyuC5"
      },
      "outputs": [],
      "source": [
        "(x_train, y_train), (x_test, y_test) = mnist.load_data()\n",
        "x_train = (x_train/255.).astype(np.float32)\n",
        "x_test = (x_test/255.).astype(np.float32)"
      ]
    },
    {
      "cell_type": "code",
      "execution_count": null,
      "metadata": {
        "id": "eMU4M2_Ty18E"
      },
      "outputs": [],
      "source": [
        "def generator(dataset,batchsize,moves=10):\n",
        "  while True:\n",
        "    rand = np.random.randint(dataset.shape[0],size=batchsize)\n",
        "    y_truth = dataset[rand]\n",
        "    blurred = np.copy(y_truth)\n",
        "    moving = tf.expand_dims(y_truth,axis=-1)\n",
        "\n",
        "    for i in range(moves):\n",
        "      #RandomTranslation requires a channel axis\n",
        "      moving = layers.RandomTranslation(0.07,0.07,fill_mode='constant',interpolation='bilinear')(moving)\n",
        "      blurred = blurred + tf.squeeze(moving)\n",
        "    blurred = blurred/(moves+1)\n",
        "    yield(blurred,y_truth)\n"
      ]
    },
    {
      "cell_type": "code",
      "execution_count": null,
      "metadata": {
        "id": "yUHecGrg7y9n"
      },
      "outputs": [],
      "source": [
        "my_gen = generator(x_train,5)"
      ]
    },
    {
      "cell_type": "code",
      "execution_count": null,
      "metadata": {
        "id": "2cg2crUI2a0W"
      },
      "outputs": [],
      "source": [
        "def plot(x,y):\n",
        "  no = x.shape[0]\n",
        "  print(no)\n",
        "  plt.figure(figsize=(2*no, 4))\n",
        "  for i in range(no):\n",
        "    # display original\n",
        "    ax = plt.subplot(2, no, i + 1)\n",
        "    plt.imshow(x[i])\n",
        "    plt.gray()\n",
        "    ax.get_xaxis().set_visible(False)\n",
        "    ax.get_yaxis().set_visible(False)\n",
        "\n",
        "    # display reconstruction\n",
        "    ax = plt.subplot(2, no, i + 1 + no)\n",
        "    plt.imshow(y[i])\n",
        "    plt.gray()\n",
        "    ax.get_xaxis().set_visible(False)\n",
        "    ax.get_yaxis().set_visible(False)\n",
        "  plt.show()"
      ]
    },
    {
      "cell_type": "code",
      "execution_count": null,
      "metadata": {
        "colab": {
          "base_uri": "https://localhost:8080/",
          "height": 356
        },
        "id": "6CtE9rzb78Hg",
        "outputId": "2e69d9c2-f90e-4e4d-aea5-cd5490b51f9c"
      },
      "outputs": [
        {
          "name": "stdout",
          "output_type": "stream",
          "text": [
            "5\n"
          ]
        },
        {
          "data": {
            "image/png": "[encoded data removed]",
            "text/plain": [
              "<Figure size 1000x400 with 10 Axes>"
            ]
          },
          "metadata": {},
          "output_type": "display_data"
        }
      ],
      "source": [
        "test_x,test_y = next(my_gen)\n",
        "plot(test_x,test_y)"
      ]
    },
    {
      "cell_type": "markdown",
      "metadata": {
        "id": "2kqAKynF_Sef"
      },
      "source": [
        "\n",
        "\n",
        "# DEBLURRING DI IMMAGINI MOSSE: **Unet**\n",
        "## Motivazioni della scelta\n",
        "Per la risoluzione del problema di deblurring di immagini mosse ho deciso di implementare un autoencoder, nello specifico una Unet.\n",
        "Tale architettura è particolarmente efficiente nel nostro caso, poiché Unet è progettata per task di segmentazione e denoising delle immagini che condividono analogie con il nostro problema di deblurring.<br>\n",
        "La forma a U della nostra rete permette di mantenere informazioni durante l'encoding e di recuperarle durante l'operazione di concatenazione nel decoding.\n",
        "Questa caratteristica è utile nel caso si voglia eseguire una ricostruzione dettagliata di un'immagine, come nel deblurring.\n",
        "\n",
        "## Architettura della mia rete\n",
        "### Encoder\n",
        "Questa fase è composta da una serie di strati convolutivi, batch normalization, activation e max-pooling intesi per ridurre progressivamente la dimensione spaziale dell'input e aumentare la profondità delle caratteristiche.\n",
        "È composta da due blocchi che rispettivamente utilizzano 64 e 128 filtri.\n",
        "### Bottleneck\n",
        "Qui è presente un solo blocco che utilizza 256 filtri ed è composto da due strati convolutivi, batch normalization e activation.\n",
        "### Decoder\n",
        "Il decoder, terminando lo schema ad U, presenta due blocchi.\n",
        "Essi percepiscono le caratteristiche dell'encoder attraverso la concatenazione e introducendo le skip connections che permettono di recuperare ulteriori dettagli che avremmo perso altrimenti.\n",
        "I blocchi utilizzano 128 e 64 filtri e al loro interno eseguono l'operazione di upsampling che ripristina le dimensioni dell'input.\n",
        "Implementano anche i layer convolutivi, batch normalization e activation.\n",
        "\n",
        "### Layer SCSE (*Spatial and Channel 'Squeeze & Excitation'*)\n",
        "Dopo varie prove empiriche ho aggiunto i blocchi SCSE alla mia Unet.\n",
        "Un blocco SCSE è un blocco che enfatizza le informazioni importanti delle feature e sopprime quelle non importanti.\n",
        "Tale comportamento è utile per migliorare la segmentazione semantica.<br>\n",
        "Ho inserito i blocchi SCSE alla fine dei layer convolutivi di tutti i miei blocchi, quindi nell'encoder, bottleneck e decoder.\n",
        "Il ratio delle scse è stato scelto sempre in base a delle prove relative alle performance del modello nel training."
      ]
    },
    {
      "cell_type": "code",
      "execution_count": null,
      "metadata": {
        "colab": {
          "base_uri": "https://localhost:8080/"
        },
        "id": "vQK4FosBff94",
        "outputId": "65e6f2d7-4ff3-411f-83a8-2df9fd3ff389"
      },
      "outputs": [
        {
          "name": "stdout",
          "output_type": "stream",
          "text": [
            "Model: \"unet\"\n",
            "__________________________________________________________________________________________________\n",
            " Layer (type)                Output Shape                 Param #   Connected to                  \n",
            "==================================================================================================\n",
            " input_2 (InputLayer)        [(None, 28, 28, 1)]          0         []                            \n",
            "                                                                                                  \n",
            " conv2d_15 (Conv2D)          (None, 28, 28, 64)           640       ['input_2[0][0]']             \n",
            "                                                                                                  \n",
            " batch_normalization_14 (Ba  (None, 28, 28, 64)           256       ['conv2d_15[0][0]']           \n",
            " tchNormalization)                                                                                \n",
            "                                                                                                  \n",
            " conv2d_16 (Conv2D)          (None, 28, 28, 64)           36928     ['batch_normalization_14[0][0]\n",
            "                                                                    ']                            \n",
            "                                                                                                  \n",
            " batch_normalization_15 (Ba  (None, 28, 28, 64)           256       ['conv2d_16[0][0]']           \n",
            " tchNormalization)                                                                                \n",
            "                                                                                                  \n",
            " conv2d_17 (Conv2D)          (None, 28, 28, 64)           36928     ['batch_normalization_15[0][0]\n",
            "                                                                    ']                            \n",
            "                                                                                                  \n",
            " batch_normalization_16 (Ba  (None, 28, 28, 64)           256       ['conv2d_17[0][0]']           \n",
            " tchNormalization)                                                                                \n",
            "                                                                                                  \n",
            " activation_5 (Activation)   (None, 28, 28, 64)           0         ['batch_normalization_16[0][0]\n",
            "                                                                    ']                            \n",
            "                                                                                                  \n",
            " global_average_pooling2d_5  (None, 64)                   0         ['activation_5[0][0]']        \n",
            "  (GlobalAveragePooling2D)                                                                        \n",
            "                                                                                                  \n",
            " reshape_5 (Reshape)         (None, 1, 1, 64)             0         ['global_average_pooling2d_5[0\n",
            "                                                                    ][0]']                        \n",
            "                                                                                                  \n",
            " dense_10 (Dense)            (None, 1, 1, 8)              520       ['reshape_5[0][0]']           \n",
            "                                                                                                  \n",
            " dense_11 (Dense)            (None, 1, 1, 64)             576       ['dense_10[0][0]']            \n",
            "                                                                                                  \n",
            " multiply_5 (Multiply)       (None, 28, 28, 64)           0         ['activation_5[0][0]',        \n",
            "                                                                     'dense_11[0][0]']            \n",
            "                                                                                                  \n",
            " max_pooling2d_2 (MaxPoolin  (None, 14, 14, 64)           0         ['multiply_5[0][0]']          \n",
            " g2D)                                                                                             \n",
            "                                                                                                  \n",
            " conv2d_18 (Conv2D)          (None, 14, 14, 128)          73856     ['max_pooling2d_2[0][0]']     \n",
            "                                                                                                  \n",
            " batch_normalization_17 (Ba  (None, 14, 14, 128)          512       ['conv2d_18[0][0]']           \n",
            " tchNormalization)                                                                                \n",
            "                                                                                                  \n",
            " conv2d_19 (Conv2D)          (None, 14, 14, 128)          147584    ['batch_normalization_17[0][0]\n",
            "                                                                    ']                            \n",
            "                                                                                                  \n",
            " batch_normalization_18 (Ba  (None, 14, 14, 128)          512       ['conv2d_19[0][0]']           \n",
            " tchNormalization)                                                                                \n",
            "                                                                                                  \n",
            " conv2d_20 (Conv2D)          (None, 14, 14, 128)          147584    ['batch_normalization_18[0][0]\n",
            "                                                                    ']                            \n",
            "                                                                                                  \n",
            " batch_normalization_19 (Ba  (None, 14, 14, 128)          512       ['conv2d_20[0][0]']           \n",
            " tchNormalization)                                                                                \n",
            "                                                                                                  \n",
            " activation_6 (Activation)   (None, 14, 14, 128)          0         ['batch_normalization_19[0][0]\n",
            "                                                                    ']                            \n",
            "                                                                                                  \n",
            " global_average_pooling2d_6  (None, 128)                  0         ['activation_6[0][0]']        \n",
            "  (GlobalAveragePooling2D)                                                                        \n",
            "                                                                                                  \n",
            " reshape_6 (Reshape)         (None, 1, 1, 128)            0         ['global_average_pooling2d_6[0\n",
            "                                                                    ][0]']                        \n",
            "                                                                                                  \n",
            " dense_12 (Dense)            (None, 1, 1, 16)             2064      ['reshape_6[0][0]']           \n",
            "                                                                                                  \n",
            " dense_13 (Dense)            (None, 1, 1, 128)            2176      ['dense_12[0][0]']            \n",
            "                                                                                                  \n",
            " multiply_6 (Multiply)       (None, 14, 14, 128)          0         ['activation_6[0][0]',        \n",
            "                                                                     'dense_13[0][0]']            \n",
            "                                                                                                  \n",
            " up_sampling2d_3 (UpSamplin  (None, 28, 28, 128)          0         ['multiply_6[0][0]']          \n",
            " g2D)                                                                                             \n",
            "                                                                                                  \n",
            " concatenate_3 (Concatenate  (None, 28, 28, 192)          0         ['up_sampling2d_3[0][0]',     \n",
            " )                                                                   'multiply_5[0][0]']          \n",
            "                                                                                                  \n",
            " conv2d_26 (Conv2D)          (None, 28, 28, 64)           110656    ['concatenate_3[0][0]']       \n",
            "                                                                                                  \n",
            " batch_normalization_25 (Ba  (None, 28, 28, 64)           256       ['conv2d_26[0][0]']           \n",
            " tchNormalization)                                                                                \n",
            "                                                                                                  \n",
            " conv2d_27 (Conv2D)          (None, 28, 28, 64)           36928     ['batch_normalization_25[0][0]\n",
            "                                                                    ']                            \n",
            "                                                                                                  \n",
            " batch_normalization_26 (Ba  (None, 28, 28, 64)           256       ['conv2d_27[0][0]']           \n",
            " tchNormalization)                                                                                \n",
            "                                                                                                  \n",
            " conv2d_28 (Conv2D)          (None, 28, 28, 64)           36928     ['batch_normalization_26[0][0]\n",
            "                                                                    ']                            \n",
            "                                                                                                  \n",
            " batch_normalization_27 (Ba  (None, 28, 28, 64)           256       ['conv2d_28[0][0]']           \n",
            " tchNormalization)                                                                                \n",
            "                                                                                                  \n",
            " activation_9 (Activation)   (None, 28, 28, 64)           0         ['batch_normalization_27[0][0]\n",
            "                                                                    ']                            \n",
            "                                                                                                  \n",
            " global_average_pooling2d_9  (None, 64)                   0         ['activation_9[0][0]']        \n",
            "  (GlobalAveragePooling2D)                                                                        \n",
            "                                                                                                  \n",
            " reshape_9 (Reshape)         (None, 1, 1, 64)             0         ['global_average_pooling2d_9[0\n",
            "                                                                    ][0]']                        \n",
            "                                                                                                  \n",
            " dense_18 (Dense)            (None, 1, 1, 8)              520       ['reshape_9[0][0]']           \n",
            "                                                                                                  \n",
            " dense_19 (Dense)            (None, 1, 1, 64)             576       ['dense_18[0][0]']            \n",
            "                                                                                                  \n",
            " multiply_9 (Multiply)       (None, 28, 28, 64)           0         ['activation_9[0][0]',        \n",
            "                                                                     'dense_19[0][0]']            \n",
            "                                                                                                  \n",
            " conv2d_29 (Conv2D)          (None, 28, 28, 1)            65        ['multiply_9[0][0]']          \n",
            "                                                                                                  \n",
            "==================================================================================================\n",
            "Total params: 637601 (2.43 MB)\n",
            "Trainable params: 636065 (2.43 MB)\n",
            "Non-trainable params: 1536 (6.00 KB)\n",
            "__________________________________________________________________________________________________\n"
          ]
        }
      ],
      "source": [
        "from keras.models import Model\n",
        "from keras.layers import Input, Conv2D, MaxPooling2D, UpSampling2D, Activation, Concatenate, Conv2DTranspose, GlobalAveragePooling2D, Reshape, Dense, multiply, BatchNormalization\n",
        "\n",
        "def scse_block(input_tensor, ratio=8):\n",
        "    # Squeeze\n",
        "    squeeze = GlobalAveragePooling2D()(input_tensor)\n",
        "    squeeze = Reshape((1, 1, input_tensor.shape[-1]))(squeeze)\n",
        "\n",
        "    # Excitation\n",
        "    excitation = Dense(input_tensor.shape[-1] // ratio, activation='relu')(squeeze)\n",
        "    excitation = Dense(input_tensor.shape[-1], activation='sigmoid')(excitation)\n",
        "\n",
        "    # Scale\n",
        "    scaled = multiply([input_tensor, excitation])\n",
        "\n",
        "    return scaled\n",
        "\n",
        "def down_block(inputs, filters, kernel_size=(3, 3), padding='same', activation='relu'):\n",
        "    conv = Conv2D(filters, kernel_size, activation=activation, padding=padding)(inputs)\n",
        "    conv = BatchNormalization()(conv)\n",
        "\n",
        "    conv = Conv2D(filters, kernel_size, activation=activation, padding=padding)(conv)\n",
        "    conv = BatchNormalization()(conv)\n",
        "\n",
        "    conv = Conv2D(filters, kernel_size, activation=activation, padding=padding)(conv)\n",
        "    conv = BatchNormalization()(conv)\n",
        "\n",
        "    conv = Activation(activation)(conv)\n",
        "\n",
        "    conv = scse_block(conv)\n",
        "\n",
        "    pool = MaxPooling2D(pool_size=(2, 2))(conv)\n",
        "    return conv, pool\n",
        "\n",
        "def up_block(inputs, skip, filters, kernel_size=(3, 3), padding='same', activation='relu'):\n",
        "    up = UpSampling2D(size=(2, 2))(inputs)\n",
        "    concat = Concatenate()([up, skip])\n",
        "\n",
        "    conv = Conv2D(filters, kernel_size, activation=activation, padding=padding)(concat)\n",
        "    conv = BatchNormalization()(conv)\n",
        "\n",
        "    conv = Conv2D(filters, kernel_size, activation=activation, padding=padding)(conv)\n",
        "    conv = BatchNormalization()(conv)\n",
        "\n",
        "    conv = Conv2D(filters, kernel_size, activation=activation, padding=padding)(conv)\n",
        "    conv = BatchNormalization()(conv)\n",
        "\n",
        "    conv = Activation(activation)(conv)\n",
        "\n",
        "\n",
        "    conv = scse_block(conv)\n",
        "\n",
        "    return conv\n",
        "\n",
        "def bottleneck(inputs, filters, kernel_size=(3, 3), padding='same', activation='relu'):\n",
        "    conv = Conv2D(filters, kernel_size, padding=padding, activation=activation)(inputs)\n",
        "    conv = BatchNormalization()(conv)\n",
        "\n",
        "    conv = Conv2D(filters, kernel_size, padding=padding, activation=activation)(conv)\n",
        "    conv = BatchNormalization()(conv)\n",
        "\n",
        "    conv = Activation(activation)(conv)\n",
        "\n",
        "    conv = scse_block(conv)\n",
        "\n",
        "    return conv\n",
        "\n",
        "def unet(img_size=(28, 28, 1), num_classes=1):\n",
        "    inputs = Input(shape=img_size)\n",
        "\n",
        "    # Encoder\n",
        "    conv1, pool1 = down_block(inputs, 64)\n",
        "    conv2, pool2 = down_block(pool1, 128)\n",
        "\n",
        "    # Bottleneck\n",
        "    conv3 = bottleneck(pool2, 256)\n",
        "\n",
        "    # Decoder\n",
        "    conv4 = up_block(conv3, conv2, 128)\n",
        "    conv5 = up_block(conv2, conv1, 64)\n",
        "\n",
        "    # Output layer\n",
        "    outputs = Conv2D(num_classes, (1, 1), activation='relu')(conv5)\n",
        "\n",
        "    model = Model(inputs=inputs, outputs=outputs, name=\"unet\")\n",
        "    return model\n",
        "\n",
        "# Shape\n",
        "HEIGHT, WIDTH = 28, 28 #MNIST shape\n",
        "# Classi\n",
        "NUM_CLASSES = 1 # scala di grigi\n",
        "\n",
        "model = unet(img_size=(HEIGHT, WIDTH, 1), num_classes=NUM_CLASSES)\n",
        "\n",
        "model.summary()"
      ]
    },
    {
      "cell_type": "markdown",
      "metadata": {
        "id": "a-gFvuBW-hvW"
      },
      "source": [
        "# Iperparametri e allenamento della rete\n",
        "Il learning rate (0,001) e l'ottimizzatore usato (Adam) sono stati frutto di una serie di sperimentazioni della combinazione di essi unitamente ad alcuni parametri della rete come la dimensione dei kernel utilizzati nel modello (tutti (3x3)).<br>\n",
        "La rete adotta anche un learning rate scheduler che dimezza il valore del learning rate ogni 5 epoche.\n",
        "La decisione del valore degli iperparametri è stata principalmente influenzata dalla media della mse, loss, val_loss e dalle metriche che ho utilizzato per valutare la performance del mio modello durante l'addestramento, tra cui l'accuracy, precision, recall e f1 score.<br>\n",
        "Le epoche totali (15) e il batch size (25) sono tali per cui si evita overfitting massimizzando loss e val_loss, nel mentre minimizzando il tempo impiegato per il training.\n",
        "Ogni epoca impiega poco più di 30s a terminare con T4 GPU impostata come hardware su Colab."
      ]
    },
    {
      "cell_type": "code",
      "execution_count": null,
      "metadata": {
        "colab": {
          "base_uri": "https://localhost:8080/"
        },
        "id": "TDXoRQyu8Osb",
        "outputId": "0c7a35c5-fdfc-4572-c44d-b74dee42f460"
      },
      "outputs": [
        {
          "name": "stdout",
          "output_type": "stream",
          "text": [
            "\n",
            "Epoch 1: LearningRateScheduler setting learning rate to 0.0010000000474974513.\n",
            "Epoch 1/15\n",
            "1920/1920 [==============================] - 50s 21ms/step - loss: 0.0114 - accuracy: 0.8105 - precision_1: 0.9705 - recall_1: 0.6689 - f1_score: 0.7444 - val_loss: 0.0053 - val_accuracy: 0.8143 - val_precision_1: 0.9898 - val_recall_1: 0.6969 - val_f1_score: 0.8170 - lr: 0.0010\n",
            "\n",
            "Epoch 2: LearningRateScheduler setting learning rate to 0.0010000000474974513.\n",
            "Epoch 2/15\n",
            "1920/1920 [==============================] - 37s 19ms/step - loss: 0.0044 - accuracy: 0.8138 - precision_1: 0.9930 - recall_1: 0.6876 - f1_score: 0.8124 - val_loss: 0.0043 - val_accuracy: 0.8146 - val_precision_1: 0.9921 - val_recall_1: 0.6980 - val_f1_score: 0.8189 - lr: 0.0010\n",
            "\n",
            "Epoch 3: LearningRateScheduler setting learning rate to 0.0010000000474974513.\n",
            "Epoch 3/15\n",
            "1920/1920 [==============================] - 38s 20ms/step - loss: 0.0035 - accuracy: 0.8141 - precision_1: 0.9951 - recall_1: 0.6877 - f1_score: 0.8134 - val_loss: 0.0037 - val_accuracy: 0.8153 - val_precision_1: 0.9974 - val_recall_1: 0.6716 - val_f1_score: 0.8021 - lr: 0.0010\n",
            "\n",
            "Epoch 4: LearningRateScheduler setting learning rate to 0.0010000000474974513.\n",
            "Epoch 4/15\n",
            "1920/1920 [==============================] - 37s 19ms/step - loss: 0.0030 - accuracy: 0.8143 - precision_1: 0.9965 - recall_1: 0.6879 - f1_score: 0.8143 - val_loss: 0.0033 - val_accuracy: 0.8149 - val_precision_1: 0.9942 - val_recall_1: 0.7078 - val_f1_score: 0.8264 - lr: 0.0010\n",
            "\n",
            "Epoch 5: LearningRateScheduler setting learning rate to 0.0010000000474974513.\n",
            "Epoch 5/15\n",
            "1920/1920 [==============================] - 34s 18ms/step - loss: 0.0026 - accuracy: 0.8144 - precision_1: 0.9973 - recall_1: 0.6883 - f1_score: 0.8143 - val_loss: 0.0031 - val_accuracy: 0.8150 - val_precision_1: 0.9945 - val_recall_1: 0.6965 - val_f1_score: 0.8187 - lr: 0.0010\n",
            "\n",
            "Epoch 6: LearningRateScheduler setting learning rate to 0.0005000000237487257.\n",
            "Epoch 6/15\n",
            "1920/1920 [==============================] - 34s 18ms/step - loss: 0.0020 - accuracy: 0.8146 - precision_1: 0.9987 - recall_1: 0.6889 - f1_score: 0.8154 - val_loss: 0.0023 - val_accuracy: 0.8155 - val_precision_1: 0.9986 - val_recall_1: 0.6806 - val_f1_score: 0.8090 - lr: 5.0000e-04\n",
            "\n",
            "Epoch 7: LearningRateScheduler setting learning rate to 0.0005000000237487257.\n",
            "Epoch 7/15\n",
            "1920/1920 [==============================] - 34s 18ms/step - loss: 0.0019 - accuracy: 0.8146 - precision_1: 0.9990 - recall_1: 0.6892 - f1_score: 0.8156 - val_loss: 0.0022 - val_accuracy: 0.8154 - val_precision_1: 0.9978 - val_recall_1: 0.6948 - val_f1_score: 0.8187 - lr: 5.0000e-04\n",
            "\n",
            "Epoch 8: LearningRateScheduler setting learning rate to 0.0005000000237487257.\n",
            "Epoch 8/15\n",
            "1920/1920 [==============================] - 37s 19ms/step - loss: 0.0018 - accuracy: 0.8147 - precision_1: 0.9992 - recall_1: 0.6893 - f1_score: 0.8160 - val_loss: 0.0021 - val_accuracy: 0.8154 - val_precision_1: 0.9980 - val_recall_1: 0.6918 - val_f1_score: 0.8167 - lr: 5.0000e-04\n",
            "\n",
            "Epoch 9: LearningRateScheduler setting learning rate to 0.0005000000237487257.\n",
            "Epoch 9/15\n",
            "1920/1920 [==============================] - 34s 18ms/step - loss: 0.0016 - accuracy: 0.8147 - precision_1: 0.9994 - recall_1: 0.6895 - f1_score: 0.8157 - val_loss: 0.0020 - val_accuracy: 0.8155 - val_precision_1: 0.9982 - val_recall_1: 0.6909 - val_f1_score: 0.8162 - lr: 5.0000e-04\n",
            "\n",
            "Epoch 10: LearningRateScheduler setting learning rate to 0.0005000000237487257.\n",
            "Epoch 10/15\n",
            "1920/1920 [==============================] - 34s 18ms/step - loss: 0.0015 - accuracy: 0.8147 - precision_1: 0.9995 - recall_1: 0.6897 - f1_score: 0.8160 - val_loss: 0.0020 - val_accuracy: 0.8155 - val_precision_1: 0.9985 - val_recall_1: 0.6889 - val_f1_score: 0.8149 - lr: 5.0000e-04\n",
            "\n",
            "Epoch 11: LearningRateScheduler setting learning rate to 0.0002500000118743628.\n",
            "Epoch 11/15\n",
            "1920/1920 [==============================] - 34s 18ms/step - loss: 0.0013 - accuracy: 0.8148 - precision_1: 0.9998 - recall_1: 0.6898 - f1_score: 0.8167 - val_loss: 0.0019 - val_accuracy: 0.8155 - val_precision_1: 0.9986 - val_recall_1: 0.6855 - val_f1_score: 0.8126 - lr: 2.5000e-04\n",
            "\n",
            "Epoch 12: LearningRateScheduler setting learning rate to 0.0002500000118743628.\n",
            "Epoch 12/15\n",
            "1920/1920 [==============================] - 34s 18ms/step - loss: 0.0013 - accuracy: 0.8148 - precision_1: 0.9998 - recall_1: 0.6897 - f1_score: 0.8163 - val_loss: 0.0018 - val_accuracy: 0.8155 - val_precision_1: 0.9984 - val_recall_1: 0.6913 - val_f1_score: 0.8165 - lr: 2.5000e-04\n",
            "\n",
            "Epoch 13: LearningRateScheduler setting learning rate to 0.0002500000118743628.\n",
            "Epoch 13/15\n",
            "1920/1920 [==============================] - 35s 18ms/step - loss: 0.0012 - accuracy: 0.8148 - precision_1: 0.9999 - recall_1: 0.6898 - f1_score: 0.8163 - val_loss: 0.0018 - val_accuracy: 0.8155 - val_precision_1: 0.9986 - val_recall_1: 0.6863 - val_f1_score: 0.8130 - lr: 2.5000e-04\n",
            "\n",
            "Epoch 14: LearningRateScheduler setting learning rate to 0.0002500000118743628.\n",
            "Epoch 14/15\n",
            "1920/1920 [==============================] - 34s 18ms/step - loss: 0.0012 - accuracy: 0.8148 - precision_1: 0.9999 - recall_1: 0.6898 - f1_score: 0.8164 - val_loss: 0.0018 - val_accuracy: 0.8155 - val_precision_1: 0.9987 - val_recall_1: 0.6856 - val_f1_score: 0.8125 - lr: 2.5000e-04\n",
            "\n",
            "Epoch 15: LearningRateScheduler setting learning rate to 0.0002500000118743628.\n",
            "Epoch 15/15\n",
            "1920/1920 [==============================] - 37s 19ms/step - loss: 0.0011 - accuracy: 0.8148 - precision_1: 0.9999 - recall_1: 0.6898 - f1_score: 0.8167 - val_loss: 0.0018 - val_accuracy: 0.8156 - val_precision_1: 0.9989 - val_recall_1: 0.6803 - val_f1_score: 0.8089 - lr: 2.5000e-04\n"
          ]
        }
      ],
      "source": [
        "from tensorflow.keras.metrics import Precision, Recall, AUC\n",
        "precision = Precision()\n",
        "recall = Recall()\n",
        "def f1_score(y_true, y_pred):\n",
        "    precision_val = precision(y_true, y_pred)\n",
        "    recall_val = recall(y_true, y_pred)\n",
        "    return 2 * (precision_val * recall_val) / (precision_val + recall_val + 1e-10)  # Aggiungo 1e-20 per evitare divisione per zero\n",
        "\n",
        "\n",
        "from tensorflow.keras.callbacks import LearningRateScheduler\n",
        "#LR scheduler\n",
        "def lr_schedule(epoch, lr):\n",
        "    if epoch % 5 == 0 and epoch > 0:\n",
        "        lr = lr * 0.5  # Learning rate dimezzato ogni 5 epoche\n",
        "    return lr\n",
        "\n",
        "# Callback\n",
        "lr_scheduler = LearningRateScheduler(lr_schedule, verbose=1)\n",
        "\n",
        "# Compilo il modello\n",
        "LEARNING_RATE = 0.001\n",
        "METRICS = [\"accuracy\",precision,recall,f1_score]\n",
        "model.compile(\n",
        "    optimizer=keras.optimizers.Adam(learning_rate=LEARNING_RATE),\n",
        "    loss=\"mse\",\n",
        "    metrics=METRICS,\n",
        ")\n",
        "\n",
        "# Generator\n",
        "SIZE = 10000\n",
        "(x_train_gen, y_train_gen) = next(generator(x_train, 60000))\n",
        "(x_test_gen,y_test_gen) = next(generator(x_test, SIZE))\n",
        "\n",
        "# Addestramento del modello\n",
        "EPOCHS = 15\n",
        "BATCH_SIZE = 25\n",
        "history = model.fit(\n",
        "    x_train_gen,\n",
        "    y_train_gen,\n",
        "    epochs=EPOCHS,\n",
        "    batch_size=BATCH_SIZE,\n",
        "    validation_split=0.2,\n",
        "    callbacks=[lr_scheduler]\n",
        ")\n"
      ]
    },
    {
      "cell_type": "markdown",
      "metadata": {
        "id": "a9isEgiLhAwh"
      },
      "source": [
        "# Valutazione\n",
        "\n",
        "## MSE e Deviazione standard\n",
        "- La media finale dell'MSE su 10 round vale: 0.0017835531616583467<br>\n",
        "- La deviazione standard vale: 2.5258217647206038e-05<br>\n",
        "\n",
        "Tali valori sono calcolati sul modello finale addestrato con 15 epoche e ultima epoca con le seguenti metriche:\n",
        "- loss: 0.0012\n",
        "- accuracy: 0.8148\n",
        "- precision: 0.9999\n",
        "- recall: 0.6898\n",
        "- f1_score: 0.8164\n",
        "- val_loss: 0.0018\n",
        "- val_accuracy: 0.8155\n",
        "-  val_precision: 0.9987\n",
        "- val_recall: 0.6856\n",
        "- val_f1_score: 0.8125\n",
        "\n",
        "\n",
        "\n",
        "\n",
        "Vengono inoltre riportati i grafici relativi alla MSE nei 10 round, il grafico tra loss e val_loss e il valore dell'indice SSIM che è pari a 0.9879504049447039, tale indice rappresenta la similità strutturale tra l'immagine del mio modello e quella della ground truth.\n",
        "\n",
        "\n",
        "\n"
      ]
    },
    {
      "cell_type": "code",
      "execution_count": null,
      "metadata": {
        "colab": {
          "base_uri": "https://localhost:8080/",
          "height": 1000
        },
        "id": "xE5ORvm4hAAw",
        "outputId": "571ade1b-cf04-4eff-efb6-a55093e30c2a"
      },
      "outputs": [
        {
          "name": "stdout",
          "output_type": "stream",
          "text": [
            "313/313 [==============================] - 3s 8ms/step\n",
            "313/313 [==============================] - 3s 8ms/step\n",
            "313/313 [==============================] - 3s 8ms/step\n",
            "313/313 [==============================] - 3s 8ms/step\n",
            "313/313 [==============================] - 3s 10ms/step\n",
            "313/313 [==============================] - 3s 8ms/step\n",
            "313/313 [==============================] - 3s 10ms/step\n",
            "313/313 [==============================] - 3s 8ms/step\n",
            "313/313 [==============================] - 3s 8ms/step\n",
            "313/313 [==============================] - 3s 8ms/step\n",
            "313/313 [==============================] - 3s 9ms/step\n",
            "Media MSE su 10 round: 0.0017835531616583467\n",
            "Deviazione Standard MSE su 10 round: 2.5258217647206038e-05\n",
            "SSIM: 0.9879504049447039\n"
          ]
        },
        {
          "data": {
            "image/png": "[encoded data removed]",
            "text/plain": [
              "<Figure size 640x480 with 1 Axes>"
            ]
          },
          "metadata": {},
          "output_type": "display_data"
        },
        {
          "data": {
            "image/png": "[encoded data removed]",
            "text/plain": [
              "<Figure size 640x480 with 1 Axes>"
            ]
          },
          "metadata": {},
          "output_type": "display_data"
        }
      ],
      "source": [
        "# Valutazione del modello\n",
        "\n",
        "from skimage import metrics\n",
        "\n",
        "predict_output = model.predict(x_test_gen)\n",
        "\n",
        "# Se ho meno di 20 immagini le plotto per avere un risultato visivo\n",
        "if(SIZE<=20):\n",
        "    plot(predict_output,y_test_gen)\n",
        "    plot(x_test_gen,y_test_gen)\n",
        "\n",
        "\n",
        "mse_calculator = tf.keras.losses.MeanSquaredError()\n",
        "mse_scores = []\n",
        "ssim = 0;\n",
        "\n",
        "ROUND = 10 # 10 round\n",
        "\n",
        "for i in range(ROUND):\n",
        "    test_x,test_y = next(generator(x_test,10000))\n",
        "    subset = model.predict(test_x)\n",
        "    test_y = tf.expand_dims(test_y, axis=-1)\n",
        "\n",
        "    #MSE\n",
        "    mse = mse_calculator(test_y,subset).numpy() #mse del round\n",
        "    #print(mse)\n",
        "    mse_scores.append(mse) #aggiungo mse del round all'array\n",
        "\n",
        "    #Altre metriche\n",
        "    test_y_squeeze = tf.squeeze(test_y).numpy()\n",
        "    subset_squeeze = tf.squeeze(subset).numpy()\n",
        "\n",
        "    ssim += metrics.structural_similarity(test_y_squeeze, subset_squeeze) #ssim\n",
        "\n",
        "\n",
        "\n",
        "# Calcolo della media dell'MSE e della deviazione standard\n",
        "mean_mse = np.mean(mse_scores)\n",
        "std_dev = np.std(mse_scores)\n",
        "\n",
        "# Media MSE e deviazione standard\n",
        "print(f'Media MSE su {ROUND} round: {mean_mse}')\n",
        "print(f'Deviazione Standard MSE su {ROUND} round: {std_dev}')\n",
        "\n",
        "# Altre metriche\n",
        "print(f\"SSIM: {ssim / ROUND}\")\n",
        "\n",
        "\n",
        "# Plot di tutte le MSE nei 10 round\n",
        "runs = np.arange(1, ROUND+1)\n",
        "plt.plot(runs, mse_scores, marker='o')\n",
        "plt.xlabel('Run')\n",
        "plt.ylabel('MSE')\n",
        "plt.title(f'MSE per {ROUND} round')\n",
        "plt.show()\n",
        "\n",
        "\n",
        "# Estrai le metriche dal training history\n",
        "loss_values = history.history['loss']\n",
        "val_loss_values = history.history['val_loss']\n",
        "\n",
        "# Plot della Train Loss e Validation Loss\n",
        "plt.plot(history.history['loss'], label='Loss')\n",
        "plt.plot(history.history['val_loss'], label='Validation Loss')\n",
        "plt.xlabel('Epoche')\n",
        "plt.ylabel('Loss value')\n",
        "plt.legend()\n",
        "plt.title('Loss e Validation Loss nell\\'addestramento')\n",
        "plt.show()\n"
      ]
    }
  ],
  "metadata": {
    "accelerator": "GPU",
    "colab": {
      "provenance": []
    },
    "kernelspec": {
      "display_name": "Python 3",
      "name": "python3"
    },
    "language_info": {
      "name": "python"
    }
  },
  "nbformat": 4,
  "nbformat_minor": 0
}
